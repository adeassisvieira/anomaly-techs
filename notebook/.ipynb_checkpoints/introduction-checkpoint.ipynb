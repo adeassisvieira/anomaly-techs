{
 "cells": [
  {
   "cell_type": "markdown",
   "id": "5051ccb8-a34e-48e8-9d5e-291e08dafd66",
   "metadata": {},
   "source": [
    "# Outlier vs Novelty"
   ]
  },
  {
   "cell_type": "markdown",
   "id": "ed7bf4e8-6442-49c8-bcd0-9a7b93aebc7b",
   "metadata": {},
   "source": [
    "## Outlier\n",
    "> *The training data contains outliers which are defined as observations that are far from the others. **Outlier detection estimators** thus try to fit the regions where the training data is the most concentrated, ignoring the deviant observations.* - [Scikit-Learn](https://scikit-learn.org/stable/modules/outlier_detection.html)\n",
    "\n",
    "## Novelty\n",
    "> *The training data is not polluted by outliers and we are interested in detecting whether a **new observation is an outlier**. In this context an outlier is also called a **novelty**.* - [Scikit-Learn](https://scikit-learn.org/stable/modules/outlier_detection.html)\n",
    "\n",
    "*Outlier detection and novelty detection are **both used for anomaly detection**, where one is interested in detecting abnormal or unusual observations. Outlier detection is then also known as **unsupervised anomaly detection** and **novelty detection as semi-supervised anomaly detection**. In the context of outlier detection, **the outliers/anomalies cannot form a dense cluster as available estimators assume that the outliers/anomalies are located in low density regions**. On the **contrary, in the context of novelty detection, novelties/anomalies can form a dense cluster as long as they are in a low density region of the training data, considered as normal in this context**.*"
   ]
  },
  {
   "cell_type": "markdown",
   "id": "eab5b431-ad27-4449-90b3-c8cba3bec116",
   "metadata": {},
   "source": [
    "![](https://miro.medium.com/max/1200/1*XIlxmGNnjAUwDCjPtLYjcA.png)"
   ]
  },
  {
   "cell_type": "markdown",
   "id": "b1b8f440-b8bd-4bd1-ae0d-b43cab8e890a",
   "metadata": {},
   "source": [
    "## Novelty Detection"
   ]
  },
  {
   "cell_type": "markdown",
   "id": "5a801ad2-2db0-44b9-b3d6-99ca52127e2c",
   "metadata": {},
   "source": [
    "![](https://www.intechopen.com/media/chapter/54322/media/F2.png)"
   ]
  },
  {
   "cell_type": "markdown",
   "id": "3a7f73d9-9313-4690-9cd6-e186d8cecbca",
   "metadata": {},
   "source": [
    "![](https://scikit-learn.org/stable/_images/sphx_glr_plot_oneclass_001.png)"
   ]
  }
 ],
 "metadata": {
  "kernelspec": {
   "display_name": "Python 3 (ipykernel)",
   "language": "python",
   "name": "python3"
  },
  "language_info": {
   "codemirror_mode": {
    "name": "ipython",
    "version": 3
   },
   "file_extension": ".py",
   "mimetype": "text/x-python",
   "name": "python",
   "nbconvert_exporter": "python",
   "pygments_lexer": "ipython3",
   "version": "3.10.9"
  }
 },
 "nbformat": 4,
 "nbformat_minor": 5
}
